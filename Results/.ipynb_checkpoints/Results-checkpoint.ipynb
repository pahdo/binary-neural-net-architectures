{
 "cells": [
  {
   "cell_type": "markdown",
   "metadata": {},
   "source": [
    "Wrote the binary convolutional and fully-connected layers:\n",
    "\n",
    "<img src=\"BinConvLayerArch.png\"/>"
   ]
  },
  {
   "cell_type": "code",
   "execution_count": 1,
   "metadata": {
    "collapsed": true
   },
   "outputs": [],
   "source": [
    "def binConvolution(input, kernel, stride, padding, phase=True):\n",
    "    batchnorm = tf.contrib.layers.batch_norm(input, center=True, scale=True, is_training=phase)\n",
    "    activ = tf.sign(input) * tf.divide(tf.norm(input, 1), tf.cast(tf.size(input), dtype=tf.float32)) # new + added scaling, added cast\n",
    "    kernel = tf.sign(kernel) * tf.divide(tf.norm(kernel, 1), tf.cast(tf.size(kernel), dtype=tf.float32)) # new + added scaling, added cast\n",
    "    conv = tf.nn.conv2d(input, kernel, stride, padding) # conv = tf.nn.conv2d(norm1, kernel, [1, 1, 1, 1], padding='SAME')\n",
    "    return conv\n",
    "\n",
    "def binFullyConnected(reshape, weights, phase=True):\n",
    "    batchnorm = tf.contrib.layers.batch_norm(reshape, center=True, scale=True, is_training=phase)\n",
    "    activ = tf.sign(reshape) * tf.divide(tf.norm(reshape, 1), tf.cast(tf.size(reshape), dtype=tf.float32)) # add scaling\n",
    "    local = tf.matmul(activ, tf.sign(weights)) * tf.divide(tf.norm(weights, 1), tf.cast(tf.size(weights), dtype=tf.float32)) # added scaling\n",
    "    return local"
   ]
  },
  {
   "cell_type": "markdown",
   "metadata": {},
   "source": [
    "### fp16ConvLayer x fp16ConvLayer x fp16FullyConnectedLayer x fp16FullyConnectedLayer x fp16SoftmaxLinearLayer\n",
    "Loss 4.68 => 0.13 in 350000 steps\n",
    "precision@1 = 0.866\n",
    "\n",
    "### fp16ConvLayer x binConvLayer x fp16FullyConnectedLayer x fp16FullyConnectedLayer x fp16SoftmaxLinearLayer\n",
    "Loss 4.67 => 1.28 in 30000 steps  \n",
    "precision@1 = 0.761\n",
    "\n",
    "### fp16ConvLayer x binConvLayer x binFullyConnectedLayer x binFullyConnectedLayer x fp16SoftmaxLinearLayer\n",
    "Loss 4.67 => 1.80 in 15000 steps  \n",
    "precision@1 = 0.403\n",
    "\n",
    "### fp16ConvLayer x fp16ConvLayer x binFullyConnectedLayer x binFullyConnectedLayer x fp16SoftmaxLinearLayer\n",
    "Loss 4.68 => 2.30 in 15000 steps  \n",
    "precision@1 = 0.102\n",
    "\n",
    "### fp16ConvLayer x binConvLayer x binFullyConnectedLayer x fp16FullyConnectedLayer x fp16SoftmaxLinearLayer\n",
    "Loss 4.67 => 1.82 in 15000 steps  \n",
    "precision@1 = 0.400"
   ]
  },
  {
   "cell_type": "markdown",
   "metadata": {},
   "source": [
    "## Other results on AlexNet\n",
    "<img src=\"BMXTable.png\"/>"
   ]
  },
  {
   "cell_type": "code",
   "execution_count": null,
   "metadata": {
    "collapsed": true
   },
   "outputs": [],
   "source": []
  }
 ],
 "metadata": {
  "kernelspec": {
   "display_name": "Python 3",
   "language": "python",
   "name": "python3"
  },
  "language_info": {
   "codemirror_mode": {
    "name": "ipython",
    "version": 3
   },
   "file_extension": ".py",
   "mimetype": "text/x-python",
   "name": "python",
   "nbconvert_exporter": "python",
   "pygments_lexer": "ipython3",
   "version": "3.6.0"
  }
 },
 "nbformat": 4,
 "nbformat_minor": 2
}
